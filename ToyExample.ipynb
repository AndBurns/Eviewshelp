{
 "cells": [
  {
   "cell_type": "markdown",
   "id": "adb047ea-c6ce-4424-a205-80cf30d8474a",
   "metadata": {},
   "source": [
    "# WB DOcumentation examples\n",
    "From NB: World Bank docimenation is [here](https://aiqa.worldbank.org/chat/api-platform/documentation?currentTab=desktop)\n"
   ]
  },
  {
   "cell_type": "code",
   "execution_count": 1,
   "id": "9a3384db-27ef-43fa-9542-57ed3b33aaba",
   "metadata": {},
   "outputs": [
    {
     "name": "stdout",
     "output_type": "stream",
     "text": [
      "To sign in, use a web browser to open the page https://microsoft.com/devicelogin and enter the code BZGW4NSES to authenticate.\n",
      "Financial inclusion is essential for global development as it empowers individuals and businesses, particularly in low-income communities, by providing access to necessary financial services such as savings accounts, credit, and insurance. This access fosters economic growth by enabling investment in education, healthcare, and entrepreneurship, ultimately leading to poverty reduction and improved living standards. Moreover, financial inclusion supports resilience against economic shocks and enables more equitable distribution of wealth, contributing to social stability and sustainable development worldwide.\n"
     ]
    }
   ],
   "source": [
    "\n",
    "from openai import AzureOpenAI\n",
    "from azure.identity import DeviceCodeCredential, get_bearer_token_provider\n",
    "\n",
    "# Set up token provider using DeviceCodeCredential\n",
    "token_provider = get_bearer_token_provider(\n",
    "    DeviceCodeCredential(\n",
    "        tenant_id=\"31a2fec0-266b-4c67-b56e-2796d8f59c36\",\n",
    "        client_id=\"00c104af-b0ae-4557-9787-6e6cfced741e\"\n",
    "    ),\n",
    "    \"https://cognitiveservices.azure.com/.default\"\n",
    ")\n",
    "\n",
    "# Initialize AzureOpenAI client\n",
    "client = AzureOpenAI(\n",
    "    azure_endpoint=\"https://azapimdev.worldbank.org/conversationalai/v2\",\n",
    "    azure_ad_token_provider=token_provider,\n",
    "    api_version=\"2024-05-01-preview\"\n",
    ")\n",
    "\n",
    "# Generate a response using GPT model\n",
    "response = client.chat.completions.create(\n",
    "    model=\"gpt-4o-mini\",  # Available models: 'gpt-4o', 'gpt-35-turbo-16k', 'gpt-4'\n",
    "    messages=[\n",
    "        {\"role\": \"system\", \"content\": \"You are an AI assistant helping with World Bank projects.\"},\n",
    "        {\"role\": \"user\", \"content\": \"Explain the importance of financial inclusion in global development in 3 sentences.\"}\n",
    "    ],\n",
    "    # extra_headers={'api-key': APIM_SUBSCRIPTION_KEY}  # API key is optional\n",
    ")\n",
    "\n",
    "# Print the response\n",
    "print(response.choices[0].message.content)"
   ]
  },
  {
   "cell_type": "code",
   "execution_count": null,
   "id": "9ea279fd-ff80-4938-b84e-18bc5904ca2b",
   "metadata": {},
   "outputs": [],
   "source": []
  }
 ],
 "metadata": {
  "kernelspec": {
   "display_name": "Python 3 (ipykernel)",
   "language": "python",
   "name": "python3"
  },
  "language_info": {
   "codemirror_mode": {
    "name": "ipython",
    "version": 3
   },
   "file_extension": ".py",
   "mimetype": "text/x-python",
   "name": "python",
   "nbconvert_exporter": "python",
   "pygments_lexer": "ipython3",
   "version": "3.12.9"
  }
 },
 "nbformat": 4,
 "nbformat_minor": 5
}
